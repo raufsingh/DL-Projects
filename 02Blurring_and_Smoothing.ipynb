{
 "cells": [
  {
   "cell_type": "markdown",
   "metadata": {
    "id": "hfg__Nj24Q-C"
   },
   "source": [
    "# import lib"
   ]
  },
  {
   "cell_type": "code",
   "execution_count": null,
   "metadata": {
    "id": "9MVZ_Kt708LT"
   },
   "outputs": [],
   "source": [
    "import cv2\n",
    "import numpy as np\n",
    "import matplotlib.pyplot as plt"
   ]
  },
  {
   "cell_type": "code",
   "execution_count": null,
   "metadata": {
    "id": "OKZnBR60RmT6"
   },
   "outputs": [],
   "source": [
    "from google.colab import drive\n",
    "drive.mount('/content/drive')"
   ]
  },
  {
   "cell_type": "code",
   "execution_count": null,
   "metadata": {
    "id": "JzN56lGpR01M"
   },
   "outputs": [],
   "source": [
    "cd\"/content/drive/MyDrive/Deep Learning/Computer vision/IMAGE_PROCESSING/IMAGE_PROCESSING\""
   ]
  },
  {
   "cell_type": "code",
   "execution_count": null,
   "metadata": {
    "id": "jf8h8lfJR9tn"
   },
   "outputs": [],
   "source": [
    "pwd"
   ]
  },
  {
   "cell_type": "markdown",
   "metadata": {
    "id": "sQSFDP1e4YAY"
   },
   "source": [
    "# Helpfull functions"
   ]
  },
  {
   "cell_type": "code",
   "execution_count": null,
   "metadata": {
    "id": "y8qXYWFr08LU"
   },
   "outputs": [],
   "source": [
    "def load_img(path):\n",
    "    img = cv2.imread(path)\n",
    "    img = cv2.cvtColor(img, cv2.COLOR_BGR2RGB)\n",
    "    return img "
   ]
  },
  {
   "cell_type": "code",
   "execution_count": null,
   "metadata": {
    "id": "tCRv_6PN08LV"
   },
   "outputs": [],
   "source": [
    "def display_img(img):\n",
    "    fig = plt.figure(figsize=(12,10))\n",
    "    #ax = fig.add_subplot(111)\n",
    "    plt.imshow(img)"
   ]
  },
  {
   "cell_type": "markdown",
   "metadata": {
    "id": "dr4xQxvj6ogw"
   },
   "source": [
    "# Load img"
   ]
  },
  {
   "cell_type": "code",
   "execution_count": null,
   "metadata": {
    "id": "gZimHAwq08LW"
   },
   "outputs": [],
   "source": [
    "path=\"/content/drive/MyDrive/Deep Learning/Computer vision/IMAGE_PROCESSING/IMAGE_PROCESSING/bricks (2).jpg\"\n",
    "i = load_img(path)\n",
    "display_img(i)"
   ]
  },
  {
   "cell_type": "markdown",
   "metadata": {
    "id": "GLBA_XHV60tE"
   },
   "source": [
    "# Blurring & Smoothing"
   ]
  },
  {
   "cell_type": "markdown",
   "metadata": {
    "id": "SbeElFAX08Lf"
   },
   "source": [
    "### Gamma Correction : Practical Effect of Increasing Brightness"
   ]
  },
  {
   "cell_type": "code",
   "execution_count": null,
   "metadata": {
    "id": "tu_VRuuK08Li"
   },
   "outputs": [],
   "source": [
    "img = load_img(path)/255"
   ]
  },
  {
   "cell_type": "code",
   "execution_count": null,
   "metadata": {
    "id": "bP64I6YiB8D_"
   },
   "outputs": [],
   "source": [
    "img.min()"
   ]
  },
  {
   "cell_type": "code",
   "execution_count": null,
   "metadata": {
    "id": "M-jQYsaha6tN"
   },
   "outputs": [],
   "source": [
    "plt.imshow(img)"
   ]
  },
  {
   "cell_type": "code",
   "execution_count": null,
   "metadata": {
    "id": "J2ftV__BOWCu"
   },
   "outputs": [],
   "source": [
    "img"
   ]
  },
  {
   "cell_type": "code",
   "execution_count": null,
   "metadata": {
    "id": "vBTOAE9mNg-c"
   },
   "outputs": [],
   "source": [
    "ramma = 1/10\n",
    "effected_image = np.power(img, ramma)\n",
    "display_img(effected_image)"
   ]
  },
  {
   "cell_type": "code",
   "execution_count": null,
   "metadata": {
    "id": "z4lCB4dQ08Lj"
   },
   "outputs": [],
   "source": [
    "\n",
    "gamma = 8\n",
    "effected_image = np.power(img, gamma)\n",
    "display_img(effected_image)\n",
    "effected_image"
   ]
  },
  {
   "cell_type": "markdown",
   "metadata": {
    "id": "36G8eLzz08Lk"
   },
   "source": [
    "### Low Pass Filter with a 2D Convolution\n",
    "\n",
    "A fitlering operation known as 2D convolution can be used to create a low-pass filter. "
   ]
  },
  {
   "cell_type": "code",
   "execution_count": null,
   "metadata": {
    "id": "BA79G3Xz08Ll",
    "scrolled": false
   },
   "outputs": [],
   "source": [
    "img = load_img(path)\n",
    "font = cv2.FONT_HERSHEY_COMPLEX\n",
    "cv2.putText(img,text='bricks',org=(10,600), fontFace=font,fontScale= 10,color=(255,0,200),thickness=5)\n",
    "display_img(img)"
   ]
  },
  {
   "cell_type": "code",
   "execution_count": null,
   "metadata": {
    "id": "qHVxEk68NQ3y"
   },
   "outputs": [],
   "source": [
    "img"
   ]
  },
  {
   "cell_type": "markdown",
   "metadata": {
    "id": "-NIRQbLg08Lm"
   },
   "source": [
    "### Create the Kernel"
   ]
  },
  {
   "cell_type": "code",
   "execution_count": null,
   "metadata": {
    "id": "7EvY-7fr08Lm"
   },
   "outputs": [],
   "source": [
    "# kernel = np.ones(shape=(5,5),dtype=np.float32)/25\n",
    "kernel = np.ones(shape=(3,3),dtype=np.float32)/20"
   ]
  },
  {
   "cell_type": "code",
   "execution_count": null,
   "metadata": {
    "id": "G1fC81VV08Ln",
    "scrolled": true
   },
   "outputs": [],
   "source": [
    "kernel"
   ]
  },
  {
   "cell_type": "code",
   "execution_count": null,
   "metadata": {
    "id": "_f2AbWj_08Ln"
   },
   "outputs": [],
   "source": [
    "dst = cv2.filter2D(img,-5,kernel)\n",
    "display_img(dst)"
   ]
  },
  {
   "cell_type": "code",
   "execution_count": null,
   "metadata": {
    "id": "PH9iWClUNI65"
   },
   "outputs": [],
   "source": [
    "dst"
   ]
  },
  {
   "cell_type": "markdown",
   "metadata": {
    "id": "tEJVsUy208Lo"
   },
   "source": [
    "## Averaging"
   ]
  },
  {
   "cell_type": "code",
   "execution_count": null,
   "metadata": {
    "id": "A1HBy0Qu08Lo"
   },
   "outputs": [],
   "source": [
    "img = load_img(path)\n",
    "font = cv2.FONT_HERSHEY_COMPLEX\n",
    "cv2.putText(img,text='bricks',org=(10,600), fontFace=font,fontScale= 10,color=(255,0,0),thickness=4)\n",
    "display_img(img)"
   ]
  },
  {
   "cell_type": "code",
   "execution_count": null,
   "metadata": {
    "id": "AHuUSJ3q08Lp"
   },
   "outputs": [],
   "source": [
    "blurred_img = cv2.blur(img,ksize=(5,5))"
   ]
  },
  {
   "cell_type": "code",
   "execution_count": null,
   "metadata": {
    "id": "0LeFjoVIqi2s"
   },
   "outputs": [],
   "source": [
    "display_img(blurred_img)"
   ]
  },
  {
   "cell_type": "markdown",
   "metadata": {
    "id": "pkSrUhvZ08Ls"
   },
   "source": [
    "## Median Blurring"
   ]
  },
  {
   "cell_type": "code",
   "execution_count": null,
   "metadata": {
    "id": "XGB3q87i08Ls"
   },
   "outputs": [],
   "source": [
    "img = load_img(path)\n",
    "font = cv2.FONT_HERSHEY_COMPLEX\n",
    "cv2.putText(img,text='bricks',org=(10,600), fontFace=font,fontScale= 10,color=(255,0,0),thickness=4)\n",
    "display_img(img)"
   ]
  },
  {
   "cell_type": "code",
   "execution_count": null,
   "metadata": {
    "id": "oj0s2Pl308Lt"
   },
   "outputs": [],
   "source": [
    "median = cv2.medianBlur(img,-1)\n",
    "display_img(median)"
   ]
  },
  {
   "cell_type": "markdown",
   "metadata": {
    "id": "cocPFc5N08Lu"
   },
   "source": [
    "----------\n",
    "### Adding Noise\n",
    "\n",
    "Let's see a more useful case of Median Blurring by adding some random noise to an image."
   ]
  },
  {
   "cell_type": "code",
   "execution_count": null,
   "metadata": {
    "id": "OymB-3WN08Lu"
   },
   "outputs": [],
   "source": [
    "img = cv2.imread('sammy (2).jpg')\n",
    "img = cv2.cvtColor(img, cv2.COLOR_BGR2RGB)"
   ]
  },
  {
   "cell_type": "code",
   "execution_count": null,
   "metadata": {
    "id": "eQyhYViE08Lu",
    "scrolled": false
   },
   "outputs": [],
   "source": [
    "display_img(img)"
   ]
  },
  {
   "cell_type": "code",
   "execution_count": null,
   "metadata": {
    "id": "OZEp9Muc08Lv"
   },
   "outputs": [],
   "source": [
    "noise_img = cv2.imread('sammy_noise (1).jpg')"
   ]
  },
  {
   "cell_type": "code",
   "execution_count": null,
   "metadata": {
    "id": "Qo5F1nx708Lv",
    "scrolled": false
   },
   "outputs": [],
   "source": [
    "display_img(noise_img)"
   ]
  },
  {
   "cell_type": "code",
   "execution_count": null,
   "metadata": {
    "id": "PjHBqSD408Lv",
    "scrolled": false
   },
   "outputs": [],
   "source": [
    "median = cv2.medianBlur(noise_img,5)\n",
    "display_img(median)"
   ]
  },
  {
   "cell_type": "markdown",
   "metadata": {
    "id": "QUvDAk1k08Lw"
   },
   "source": [
    "--------"
   ]
  },
  {
   "cell_type": "markdown",
   "metadata": {
    "id": "MG0WEC9Y08Lx"
   },
   "source": [
    "## Great Work! Hopefully now you could imagine how software like PhotoShop or Google Images works!"
   ]
  },
  {
   "cell_type": "code",
   "execution_count": null,
   "metadata": {
    "id": "LhJnZBPsCjWM"
   },
   "outputs": [],
   "source": []
  }
 ],
 "metadata": {
  "colab": {
   "private_outputs": true,
   "provenance": []
  },
  "gpuClass": "standard",
  "kernelspec": {
   "display_name": "Python 3 (ipykernel)",
   "language": "python",
   "name": "python3"
  },
  "language_info": {
   "codemirror_mode": {
    "name": "ipython",
    "version": 3
   },
   "file_extension": ".py",
   "mimetype": "text/x-python",
   "name": "python",
   "nbconvert_exporter": "python",
   "pygments_lexer": "ipython3",
   "version": "3.10.5"
  }
 },
 "nbformat": 4,
 "nbformat_minor": 1
}
